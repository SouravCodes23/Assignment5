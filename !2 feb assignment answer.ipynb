{
 "cells": [
  {
   "cell_type": "markdown",
   "id": "f5592b42-7e8e-48d4-8bd7-d941045d67aa",
   "metadata": {},
   "source": [
    "Q1 What is an Exception in python? Write the difference between Exceptions and Syntax errors."
   ]
  },
  {
   "cell_type": "markdown",
   "id": "ed4220b2-a1bc-43df-9790-9ba7cf6b099b",
   "metadata": {},
   "source": [
    "In Python, exceptions are events that can alter the flow of control in a program. They are typically used to signal that  unusual condition has occurred. When an exception is raised, Python will search for a block of code that can handle the exception. If it finds one, it will execute that block; if not, the program will terminate.\n",
    "and \n",
    "the difference between the exception and syntax error is  Exceptions are errors that occur during the execution of a program. They are not necessarily problems with the syntax of the code but with the logic or operations performed while the code is running.\n",
    "\n",
    "Syntax errors occur when the code violates the rules of Python's syntax. These errors are detected by the Python interpreter before the code is executed.\n"
   ]
  },
  {
   "cell_type": "markdown",
   "id": "d4a1b08c-8861-46e1-94d7-2f117f4ae0fd",
   "metadata": {},
   "source": [
    "Q2 What happens when an exception is not handled? Explain with an example"
   ]
  },
  {
   "cell_type": "markdown",
   "id": "1ecdc9b6-882b-482d-84cf-8faa18c22075",
   "metadata": {},
   "source": [
    "When an exception is not handled in Python, the program will terminate and display a traceback, which is an error message showing the line of code where the exception occurred, along with a description of the error."
   ]
  },
  {
   "cell_type": "code",
   "execution_count": 1,
   "id": "d64476de-61bf-4b70-8ebd-ab4b6377fee4",
   "metadata": {},
   "outputs": [
    {
     "ename": "ZeroDivisionError",
     "evalue": "division by zero",
     "output_type": "error",
     "traceback": [
      "\u001b[0;31m---------------------------------------------------------------------------\u001b[0m",
      "\u001b[0;31mZeroDivisionError\u001b[0m                         Traceback (most recent call last)",
      "Cell \u001b[0;32mIn[1], line 5\u001b[0m\n\u001b[1;32m      2\u001b[0m \u001b[38;5;28;01mdef\u001b[39;00m \u001b[38;5;21mdivide_numbers\u001b[39m(a, b):\n\u001b[1;32m      3\u001b[0m     \u001b[38;5;28;01mreturn\u001b[39;00m a \u001b[38;5;241m/\u001b[39m b\n\u001b[0;32m----> 5\u001b[0m result \u001b[38;5;241m=\u001b[39m \u001b[43mdivide_numbers\u001b[49m\u001b[43m(\u001b[49m\u001b[38;5;241;43m10\u001b[39;49m\u001b[43m,\u001b[49m\u001b[43m \u001b[49m\u001b[38;5;241;43m0\u001b[39;49m\u001b[43m)\u001b[49m\n\u001b[1;32m      6\u001b[0m \u001b[38;5;28mprint\u001b[39m(\u001b[38;5;124m\"\u001b[39m\u001b[38;5;124mThe result is:\u001b[39m\u001b[38;5;124m\"\u001b[39m, result)\n",
      "Cell \u001b[0;32mIn[1], line 3\u001b[0m, in \u001b[0;36mdivide_numbers\u001b[0;34m(a, b)\u001b[0m\n\u001b[1;32m      2\u001b[0m \u001b[38;5;28;01mdef\u001b[39;00m \u001b[38;5;21mdivide_numbers\u001b[39m(a, b):\n\u001b[0;32m----> 3\u001b[0m     \u001b[38;5;28;01mreturn\u001b[39;00m \u001b[43ma\u001b[49m\u001b[43m \u001b[49m\u001b[38;5;241;43m/\u001b[39;49m\u001b[43m \u001b[49m\u001b[43mb\u001b[49m\n",
      "\u001b[0;31mZeroDivisionError\u001b[0m: division by zero"
     ]
    }
   ],
   "source": [
    "# Example =  \n",
    "def divide_numbers(a, b):\n",
    "    return a / b\n",
    "\n",
    "result = divide_numbers(10, 0)\n",
    "print(\"The result is:\", result)\n"
   ]
  },
  {
   "cell_type": "markdown",
   "id": "b2d2591c-f625-4202-b7dd-09c36a736694",
   "metadata": {},
   "source": [
    "this is the example "
   ]
  },
  {
   "cell_type": "markdown",
   "id": "c665ff13-deaf-4f67-bb92-a005b1fec6de",
   "metadata": {},
   "source": [
    "Q3 Which Python statements are used to catch and handle exceptions? Explain with an example."
   ]
  },
  {
   "cell_type": "code",
   "execution_count": 2,
   "id": "ab9f17e9-7f5b-4c8e-b3c7-c2587508ac21",
   "metadata": {},
   "outputs": [],
   "source": [
    "# Try,except,if ,finally words  are used to catch and handle exceptions in python . \n",
    "def divide(x):\n",
    "    try:\n",
    "        result=42/x\n",
    "    except ZeroDivisionError:\n",
    "        print('Sorry ! You are  dividing by zero')\n",
    "    else:\n",
    "        print('Yeah ! Your answer is :' ,result)\n",
    "    finally:\n",
    "        print('This is always executed')"
   ]
  },
  {
   "cell_type": "code",
   "execution_count": 3,
   "id": "a4b66576-0feb-4380-8d55-3e57a7be33b1",
   "metadata": {},
   "outputs": [
    {
     "name": "stdout",
     "output_type": "stream",
     "text": [
      "Yeah ! Your answer is : 14.0\n",
      "This is always executed\n",
      "Yeah ! Your answer is : 1.3125\n",
      "This is always executed\n"
     ]
    }
   ],
   "source": [
    "divide(3)\n",
    "divide(32)"
   ]
  },
  {
   "cell_type": "markdown",
   "id": "4d03e82e-c8c5-4725-aa2f-d09fa7017248",
   "metadata": {},
   "source": [
    " Q4. Explain with an example:\n",
    " try and else\n",
    " finally\n",
    " raise "
   ]
  },
  {
   "cell_type": "code",
   "execution_count": 5,
   "id": "cfe0e518-ef40-4e86-b9bf-593fadf3bff1",
   "metadata": {},
   "outputs": [
    {
     "name": "stdout",
     "output_type": "stream",
     "text": [
      "The result is: 5.0\n",
      "Error: Cannot divide by zero.\n"
     ]
    }
   ],
   "source": [
    "# try and else\n",
    "def divide_numbers(a, b):\n",
    "    try:\n",
    "        result = a / b\n",
    "    except ZeroDivisionError:\n",
    "        print(\"Error: Cannot divide by zero.\")\n",
    "    else:\n",
    "       \n",
    "        print(f\"The result is: {result}\")\n",
    "\n",
    "divide_numbers(10, 2)\n",
    "divide_numbers(10, 0)  \n"
   ]
  },
  {
   "cell_type": "code",
   "execution_count": 6,
   "id": "f4b75fe8-8a18-4b21-aa77-20a7c611ac29",
   "metadata": {},
   "outputs": [
    {
     "name": "stdout",
     "output_type": "stream",
     "text": [
      "Result: 5.0\n",
      "Execution completed.\n",
      "Error: Cannot divide by zero.\n",
      "Execution completed.\n"
     ]
    }
   ],
   "source": [
    "# finally example\n",
    "def divide(a, b):\n",
    "    try:\n",
    "        result = a / b\n",
    "        print(f\"Result: {result}\")\n",
    "    except ZeroDivisionError:\n",
    "        print(\"Error: Cannot divide by zero.\")\n",
    "    finally:\n",
    "        print(\"Execution completed.\")\n",
    "divide(10, 2) \n",
    "divide(10, 0) \n"
   ]
  },
  {
   "cell_type": "code",
   "execution_count": 7,
   "id": "7c5c021a-1db4-47fa-b0b9-c8a1d37eac4e",
   "metadata": {},
   "outputs": [
    {
     "name": "stdout",
     "output_type": "stream",
     "text": [
      "Invalid age!\n"
     ]
    }
   ],
   "source": [
    "# exmaple of raise \n",
    "def check_age(age):\n",
    "    if age < 0:\n",
    "        raise ValueError(\"Invalid age!\") \n",
    "\n",
    "try:\n",
    "    check_age(-1)\n",
    "except ValueError as e:\n",
    "    print(e)\n"
   ]
  },
  {
   "cell_type": "markdown",
   "id": "e6624061-1321-47c1-906a-de6c4e092103",
   "metadata": {},
   "source": [
    " What are Custom Exceptions in python? Why do we need Custom Exceptions? Explain with an example."
   ]
  },
  {
   "cell_type": "markdown",
   "id": "be3f54a5-b233-4ce8-8166-a84a58894fd2",
   "metadata": {},
   "source": [
    "Custom Exceptions are user-defined exceptions that extend the standard exceptions provided by Python. You create them when you need to represent specific errors that are unique to your application or domain, which are not adequately represented by Python's built-in exceptions."
   ]
  },
  {
   "cell_type": "markdown",
   "id": "acc86c26-7e28-4021-a410-663ebbda7e7f",
   "metadata": {},
   "source": [
    "we need custom Exceptions for specificity,redability and maintanance,Error handling\n"
   ]
  },
  {
   "cell_type": "code",
   "execution_count": 9,
   "id": "ee0ee1ce-89de-4697-a3ce-b62ed1da845c",
   "metadata": {},
   "outputs": [
    {
     "name": "stdout",
     "output_type": "stream",
     "text": [
      "Insufficient funds!\n"
     ]
    }
   ],
   "source": [
    "# Define a custom exception\n",
    "class InsufficientFundsError(Exception):\n",
    "    pass\n",
    "\n",
    "def withdraw(balance, amount):\n",
    "    if amount > balance:\n",
    "        raise InsufficientFundsError(\"Insufficient funds!\")  \n",
    "    return balance - amount\n",
    "\n",
    "try:\n",
    "    withdraw(100, 150)\n",
    "except InsufficientFundsError as e:\n",
    "    print(e)\n"
   ]
  },
  {
   "cell_type": "code",
   "execution_count": null,
   "id": "b7122bea-8009-4c9e-943b-8d53577b5538",
   "metadata": {},
   "outputs": [],
   "source": [
    "Q6 Create a custom exception class. Use this class to handle an exception."
   ]
  },
  {
   "cell_type": "code",
   "execution_count": null,
   "id": "0477cace-8d72-4c8f-90f6-3aa011879297",
   "metadata": {},
   "outputs": [],
   "source": [
    "class MyCustomError(Exception):\n",
    "    pass\n",
    "\n",
    "def check_value(x):\n",
    "    if x < 0:\n",
    "        raise MyCustomError(\"Negative value not allowed!\")\n",
    "    return x\n",
    "\n",
    "# Test case\n",
    "try:\n",
    "    check_value(-1)\n",
    "except MyCustomError as e:\n",
    "    print(e)\n"
   ]
  }
 ],
 "metadata": {
  "kernelspec": {
   "display_name": "Python 3 (ipykernel)",
   "language": "python",
   "name": "python3"
  },
  "language_info": {
   "codemirror_mode": {
    "name": "ipython",
    "version": 3
   },
   "file_extension": ".py",
   "mimetype": "text/x-python",
   "name": "python",
   "nbconvert_exporter": "python",
   "pygments_lexer": "ipython3",
   "version": "3.10.8"
  }
 },
 "nbformat": 4,
 "nbformat_minor": 5
}
